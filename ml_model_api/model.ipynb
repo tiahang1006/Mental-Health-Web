{
 "cells": [
  {
   "cell_type": "code",
   "execution_count": 51,
   "metadata": {},
   "outputs": [
    {
     "name": "stdout",
     "output_type": "stream",
     "text": [
      "Total valid (patient → therapist) examples: 237\n",
      "\n",
      " Label Distribution:\n",
      "Speaker Initiative    179\n",
      "General                46\n",
      "Speaker Responsive     12\n",
      "Name: label, dtype: int64\n",
      "                                             context               label\n",
      "0                     I do well, thanks for asking.   Speaker Responsive\n",
      "1  Yeah, I'm, I'm recently married. And so my hus...  Speaker Initiative\n",
      "2  Yes. Um, I participated in a sleep study and w...  Speaker Initiative\n",
      "3  Colby? Um, well, I'm just little worried that ...  Speaker Initiative\n",
      "4  Usually I wake up and he's like, what are you ...  Speaker Initiative\n"
     ]
    }
   ],
   "source": [
    "import pandas as pd\n",
    "from glob import glob\n",
    "import numpy as np\n",
    "from sklearn.utils import resample\n",
    "from sklearn.model_selection import train_test_split\n",
    "from sklearn.pipeline import Pipeline\n",
    "from sklearn.linear_model import LogisticRegression\n",
    "from sklearn.metrics import classification_report\n",
    "from sklearn.feature_extraction.text import TfidfVectorizer\n",
    "import joblib\n",
    "\n",
    "# Dialog Act Mapping: 12 → 3 classes\n",
    "dialog_act_map = {\n",
    "    'CRQ': 'Speaker Initiative',\n",
    "    'ORQ': 'Speaker Initiative',\n",
    "    'IRQ': 'Speaker Initiative',\n",
    "    'YNQ': 'Speaker Initiative',\n",
    "\n",
    "    'GT': 'General',\n",
    "    'GC': 'General',\n",
    "    'ACK': 'General',\n",
    "    \n",
    "    'ID': 'Speaker Responsive',\n",
    "    'CD': 'Speaker Responsive',\n",
    "    'PA': 'Speaker Responsive',\n",
    "    'OD': 'Speaker Responsive',\n",
    "    'NA': 'Speaker Responsive'\n",
    "}\n",
    "\n",
    "# Get all csv files in current directory\n",
    "csv_files = glob(\"*.csv\")\n",
    "\n",
    "# Store all matched (context, label) pairs\n",
    "all_pairs = []\n",
    "\n",
    "# Process each file\n",
    "for file in csv_files:\n",
    "    df = pd.read_csv(file)\n",
    "    df.columns = ['ID', 'Type', 'Utterance', 'Dialog_Act']\n",
    "    \n",
    "    for i in range(len(df)):\n",
    "        if str(df.loc[i, 'Type']).strip().lower() == 'p':\n",
    "            # Search next therapist\n",
    "            for j in range(i+1, len(df)):\n",
    "                if str(df.loc[j, 'Type']).strip().lower() == 't':\n",
    "                    context = df.loc[i, 'Utterance']\n",
    "                    raw_label = df.loc[j, 'Dialog_Act']\n",
    "                    clean_label = str(raw_label).strip().upper()\n",
    "                    mapped_label = dialog_act_map.get(clean_label)\n",
    "                    \n",
    "                    if mapped_label:\n",
    "                        all_pairs.append((context, mapped_label))\n",
    "                    break\n",
    "\n",
    "# Convert to DataFrame\n",
    "final_df = pd.DataFrame(all_pairs, columns=['context', 'label'])\n",
    "\n",
    "# Display stats\n",
    "print(f\"Total valid (patient → therapist) examples: {len(final_df)}\")\n",
    "print(\"\\n Label Distribution:\")\n",
    "print(final_df['label'].value_counts())\n",
    "\n",
    "print(final_df.head(5))\n",
    "# Save to CSV\n",
    "final_df.to_csv(\"dialog_acts_3class_dataset.csv\", index=False)\n",
    "\n"
   ]
  },
  {
   "cell_type": "code",
   "execution_count": 52,
   "metadata": {},
   "outputs": [
    {
     "name": "stdout",
     "output_type": "stream",
     "text": [
      "Total original samples: 237\n",
      "Cleaned sample count: 196\n",
      "\n",
      "Class distribution:\n",
      "Speaker Initiative    149\n",
      "General                36\n",
      "Speaker Responsive     11\n",
      "Name: label, dtype: int64\n"
     ]
    }
   ],
   "source": [
    "# Load the dataset\n",
    "df = pd.read_csv(\"dialog_acts_3class_dataset.csv\")\n",
    "print(f\"Total original samples: {len(df)}\")\n",
    "\n",
    "# Data cleaning\n",
    "df = df.drop_duplicates()  # Remove duplicates\n",
    "df = df[df['context'].notnull()]  # Remove null values\n",
    "df = df[df['context'].str.strip() != '']  # Remove empty strings\n",
    "df = df[df['context'].str.len() > 5]  # Remove too-short text entries\n",
    "\n",
    "# Keep only the three valid target classes\n",
    "valid_labels = ['Speaker Initiative', 'General', 'Speaker Responsive']\n",
    "df = df[df['label'].isin(valid_labels)]\n",
    "\n",
    "print(f\"Cleaned sample count: {len(df)}\")\n",
    "\n",
    "print(\"\\nClass distribution:\")\n",
    "print(df['label'].value_counts())\n"
   ]
  },
  {
   "cell_type": "code",
   "execution_count": 53,
   "metadata": {},
   "outputs": [
    {
     "name": "stdout",
     "output_type": "stream",
     "text": [
      "Class distribution after upsampling:\n",
      "Speaker Initiative    149\n",
      "General               100\n",
      "Speaker Responsive    100\n",
      "Name: label, dtype: int64\n"
     ]
    }
   ],
   "source": [
    "# Handle class imbalance via upsampling\n",
    "df_major = df[df.label == 'Speaker Initiative']\n",
    "df_mid = df[df.label == 'General']\n",
    "df_minor = df[df.label == 'Speaker Responsive']\n",
    "\n",
    "df_mid_up = resample(df_mid, replace=True, n_samples=100, random_state=42)\n",
    "df_minor_up = resample(df_minor, replace=True, n_samples=100, random_state=42)\n",
    "\n",
    "df_balanced = pd.concat([df_major, df_mid_up, df_minor_up])\n",
    "df_balanced = df_balanced.sample(frac=1, random_state=42).reset_index(drop=True)\n",
    "\n",
    "print(\"Class distribution after upsampling:\")\n",
    "print(df_balanced['label'].value_counts())\n"
   ]
  },
  {
   "cell_type": "code",
   "execution_count": 54,
   "metadata": {},
   "outputs": [
    {
     "name": "stdout",
     "output_type": "stream",
     "text": [
      "Classification Report:\n",
      "                    precision    recall  f1-score   support\n",
      "\n",
      "           General       0.95      0.90      0.92        20\n",
      "Speaker Initiative       0.93      0.93      0.93        30\n",
      "Speaker Responsive       0.95      1.00      0.98        20\n",
      "\n",
      "          accuracy                           0.94        70\n",
      "         macro avg       0.94      0.94      0.94        70\n",
      "      weighted avg       0.94      0.94      0.94        70\n",
      "\n"
     ]
    }
   ],
   "source": [
    "# Split features and labels\n",
    "X = df_balanced['context']\n",
    "y = df_balanced['label']\n",
    "\n",
    "X_train, X_test, y_train, y_test = train_test_split(\n",
    "    X, y, test_size=0.2, stratify=y, random_state=42\n",
    ")\n",
    "\n",
    "# Build model pipeline: TF-IDF + Logistic Regression\n",
    "model = Pipeline([\n",
    "    ('tfidf', TfidfVectorizer(ngram_range=(1, 2), min_df=2)),\n",
    "    ('clf', LogisticRegression(max_iter=1000, multi_class='multinomial', solver='lbfgs'))\n",
    "])\n",
    "\n",
    "# Train the model\n",
    "model.fit(X_train, y_train)\n",
    "\n",
    "# Evaluate model performance\n",
    "y_pred = model.predict(X_test)\n",
    "print(\"Classification Report:\")\n",
    "print(classification_report(y_test, y_pred))"
   ]
  },
  {
   "cell_type": "code",
   "execution_count": 55,
   "metadata": {},
   "outputs": [
    {
     "name": "stdout",
     "output_type": "stream",
     "text": [
      "Model saved as model.pkl\n"
     ]
    }
   ],
   "source": [
    "# Save the model\n",
    "joblib.dump(model, 'model.pkl')\n",
    "print(\"Model saved as model.pkl\")"
   ]
  },
  {
   "cell_type": "code",
   "execution_count": null,
   "metadata": {},
   "outputs": [],
   "source": []
  },
  {
   "cell_type": "code",
   "execution_count": null,
   "metadata": {},
   "outputs": [],
   "source": []
  }
 ],
 "metadata": {
  "kernelspec": {
   "display_name": "Python 3",
   "language": "python",
   "name": "python3"
  },
  "language_info": {
   "codemirror_mode": {
    "name": "ipython",
    "version": 3
   },
   "file_extension": ".py",
   "mimetype": "text/x-python",
   "name": "python",
   "nbconvert_exporter": "python",
   "pygments_lexer": "ipython3",
   "version": "3.7.4"
  }
 },
 "nbformat": 4,
 "nbformat_minor": 2
}
